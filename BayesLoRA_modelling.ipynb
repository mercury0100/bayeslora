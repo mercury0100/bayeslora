{
 "cells": [
  {
   "cell_type": "code",
   "execution_count": 1,
   "id": "91963410-ca73-46ec-a42b-c0826026d13e",
   "metadata": {
    "tags": []
   },
   "outputs": [
    {
     "data": {
      "application/vnd.jupyter.widget-view+json": {
       "model_id": "ff614f3ce0e047dbb87e94de2e1aa183",
       "version_major": 2,
       "version_minor": 0
      },
      "text/plain": [
       "tokenizer_config.json:   0%|          | 0.00/48.0 [00:00<?, ?B/s]"
      ]
     },
     "metadata": {},
     "output_type": "display_data"
    },
    {
     "data": {
      "application/vnd.jupyter.widget-view+json": {
       "model_id": "841fc030ce274836ba084dbbd7d1621d",
       "version_major": 2,
       "version_minor": 0
      },
      "text/plain": [
       "vocab.txt:   0%|          | 0.00/232k [00:00<?, ?B/s]"
      ]
     },
     "metadata": {},
     "output_type": "display_data"
    },
    {
     "data": {
      "application/vnd.jupyter.widget-view+json": {
       "model_id": "cbc442652f6c43e6b1958934aa829eb5",
       "version_major": 2,
       "version_minor": 0
      },
      "text/plain": [
       "tokenizer.json:   0%|          | 0.00/466k [00:00<?, ?B/s]"
      ]
     },
     "metadata": {},
     "output_type": "display_data"
    },
    {
     "data": {
      "application/vnd.jupyter.widget-view+json": {
       "model_id": "b5e5053a46ba47e294abfc0664490e95",
       "version_major": 2,
       "version_minor": 0
      },
      "text/plain": [
       "config.json:   0%|          | 0.00/483 [00:00<?, ?B/s]"
      ]
     },
     "metadata": {},
     "output_type": "display_data"
    },
    {
     "name": "stderr",
     "output_type": "stream",
     "text": [
      "Some weights of DistilBertForSequenceClassification were not initialized from the model checkpoint at distilbert-base-uncased and are newly initialized: ['classifier.bias', 'classifier.weight', 'pre_classifier.bias', 'pre_classifier.weight']\n",
      "You should probably TRAIN this model on a down-stream task to be able to use it for predictions and inference.\n"
     ]
    },
    {
     "data": {
      "application/vnd.jupyter.widget-view+json": {
       "model_id": "4def8e1a7bca4ca5a43b1b28255f07c6",
       "version_major": 2,
       "version_minor": 0
      },
      "text/plain": [
       "README.md: 0.00B [00:00, ?B/s]"
      ]
     },
     "metadata": {},
     "output_type": "display_data"
    },
    {
     "data": {
      "application/vnd.jupyter.widget-view+json": {
       "model_id": "d52b394637f24a3f8a6d0755ebe33578",
       "version_major": 2,
       "version_minor": 0
      },
      "text/plain": [
       "Downloading builder script: 0.00B [00:00, ?B/s]"
      ]
     },
     "metadata": {},
     "output_type": "display_data"
    },
    {
     "name": "stdout",
     "output_type": "stream",
     "text": [
      "Epoch 1 train loss: 0.5326\n",
      "Epoch 1 eval acc : 0.8656\n",
      "Epoch 2 train loss: 0.3099\n",
      "Epoch 2 eval acc : 0.8731\n",
      "Epoch 3 train loss: 0.2602\n",
      "Epoch 3 eval acc : 0.8790\n",
      "Epoch 4 train loss: 0.2252\n",
      "Epoch 4 eval acc : 0.8797\n",
      "Epoch 5 train loss: 0.1909\n",
      "Epoch 5 eval acc : 0.8723\n",
      "Epoch 6 train loss: 0.1735\n",
      "Epoch 6 eval acc : 0.8797\n",
      "Early stopping triggered.\n"
     ]
    }
   ],
   "source": [
    "# Full LoRA fine-tuning script with adapter-only dropout and inference-limited MC-dropout\n",
    "\n",
    "import os\n",
    "# 1. Setup: fresh cache, disable Xet/safetensors\n",
    "os.environ[\"HF_HUB_DISABLE_XET\"]         = \"1\"\n",
    "os.environ[\"TRANSFORMERS_NO_SAFETENSORS\"] = \"1\"\n",
    "os.environ[\"HF_HOME\"]                    = \"/tmp/hf_fresh_cache\"\n",
    "\n",
    "# 2. Imports\n",
    "import torch\n",
    "import numpy as np\n",
    "from datasets import load_dataset\n",
    "import evaluate\n",
    "from torch.utils.data import DataLoader\n",
    "from transformers import DistilBertForSequenceClassification, DistilBertTokenizerFast\n",
    "from peft.tuners.lora import LoraModel, LoraConfig\n",
    "\n",
    "# 3. Load base model & tokenizer\n",
    "tokenizer  = DistilBertTokenizerFast.from_pretrained(\"distilbert-base-uncased\")\n",
    "base_model = DistilBertForSequenceClassification.from_pretrained(\n",
    "    \"distilbert-base-uncased\", num_labels=2\n",
    ")\n",
    "\n",
    "# 4. Define LoRA config (patch the encoder)\n",
    "lora_config = LoraConfig(\n",
    "    task_type=\"SEQ_CLS\",\n",
    "    r=64,\n",
    "    lora_dropout=0.15,    # 15% adapter dropout\n",
    "    target_modules=[\"q_lin\", \"k_lin\", \"v_lin\", \"out_lin\", \"lin1\", \"lin2\"],\n",
    ")\n",
    "\n",
    "# 5. Wrap only the encoder, specifying adapter_name\n",
    "encoder = base_model.distilbert\n",
    "lora_encoder = LoraModel(encoder, lora_config, adapter_name=\"default\")\n",
    "base_model.distilbert = lora_encoder\n",
    "\n",
    "# 6. Freeze all except LoRA adapters (train only adapters)\n",
    "for name, param in base_model.named_parameters():\n",
    "    param.requires_grad = \"lora_\" in name\n",
    "\n",
    "# 7. Move to device\n",
    "device = torch.device(\"cuda\" if torch.cuda.is_available() else \"cpu\")\n",
    "base_model.to(device)\n",
    "\n",
    "# 8. Prepare SST-2 subset (10% train → 80/20 split)\n",
    "ds = load_dataset(\"glue\", \"sst2\", split=\"train[:10%]\")\n",
    "def preprocess(batch):\n",
    "    toks = tokenizer(batch[\"sentence\"], truncation=True, padding=\"max_length\", max_length=64)\n",
    "    toks[\"labels\"] = batch[\"label\"]\n",
    "    return toks\n",
    "\n",
    "ds = ds.map(preprocess, batched=True)\n",
    "splits    = ds.train_test_split(test_size=0.2)\n",
    "train_ds, eval_ds = splits[\"train\"], splits[\"test\"]\n",
    "\n",
    "def collate_fn(batch):\n",
    "    return {\n",
    "        \"input_ids\":      torch.tensor([x[\"input_ids\"] for x in batch], device=device),\n",
    "        \"attention_mask\": torch.tensor([x[\"attention_mask\"] for x in batch], device=device),\n",
    "        \"labels\":         torch.tensor([x[\"labels\"] for x in batch], device=device),\n",
    "    }\n",
    "\n",
    "train_loader = DataLoader(train_ds, batch_size=16, shuffle=True, collate_fn=collate_fn)\n",
    "eval_loader  = DataLoader(eval_ds,  batch_size=16, shuffle=False, collate_fn=collate_fn)\n",
    "\n",
    "# 9. Optimizer (only LoRA adapters)\n",
    "optimizer = torch.optim.AdamW(\n",
    "    [p for p in base_model.parameters() if p.requires_grad],\n",
    "    lr=1e-4,             # higher LR for adapters\n",
    "    weight_decay=0.1     # stronger weight decay\n",
    ")\n",
    "\n",
    "# 10. Training + evaluation loop with early stopping\n",
    "metric = evaluate.load(\"accuracy\")\n",
    "num_epochs = 10\n",
    "best_val = 0.0\n",
    "patience = 2\n",
    "stale = 0\n",
    "\n",
    "for epoch in range(num_epochs):\n",
    "    # Training\n",
    "    base_model.train()\n",
    "    total_loss = 0.0\n",
    "    for batch in train_loader:\n",
    "        optimizer.zero_grad()\n",
    "        out = base_model(**batch)\n",
    "        loss = out.loss\n",
    "        loss.backward()\n",
    "        optimizer.step()\n",
    "        total_loss += loss.item()\n",
    "    avg_loss = total_loss / len(train_loader)\n",
    "    print(f\"Epoch {epoch+1} train loss: {avg_loss:.4f}\")\n",
    "\n",
    "    # Evaluation\n",
    "    base_model.eval()\n",
    "    metric = evaluate.load(\"accuracy\")\n",
    "    for batch in eval_loader:\n",
    "        with torch.no_grad():\n",
    "            logits = base_model(input_ids=batch[\"input_ids\"],\n",
    "                                attention_mask=batch[\"attention_mask\"]).logits\n",
    "        preds = logits.argmax(dim=-1).cpu().numpy()\n",
    "        refs  = batch[\"labels\"].cpu().numpy()\n",
    "        metric.add_batch(predictions=preds, references=refs)\n",
    "    val_acc = metric.compute()[\"accuracy\"]\n",
    "    print(f\"Epoch {epoch+1} eval acc : {val_acc:.4f}\")\n",
    "\n",
    "    # Early stopping check\n",
    "    if val_acc > best_val + 1e-4:\n",
    "        best_val = val_acc\n",
    "        stale = 0\n",
    "        torch.save(base_model.state_dict(), \"best_model.pt\")\n",
    "    else:\n",
    "        stale += 1\n",
    "        if stale >= patience:\n",
    "            print(\"Early stopping triggered.\")\n",
    "            base_model.load_state_dict(torch.load(\"best_model.pt\"))\n",
    "            break\n",
    "\n",
    "# 11. Enable MC-dropout at inference ONLY for adapter layers\n",
    "#    Ensure backbone dropouts remain off.\n",
    "base_model.eval()\n",
    "# First, set all dropout to eval (deterministic)\n",
    "for m in base_model.modules():\n",
    "    if isinstance(m, torch.nn.Dropout):\n",
    "        m.eval()\n",
    "# Then re-enable only adapter dropouts to train mode\n",
    "for module in base_model.distilbert.modules():\n",
    "    if hasattr(module, \"lora_dropout\"):\n",
    "        # module.lora_dropout is a ModuleDict\n",
    "        for dropout in module.lora_dropout.values():\n",
    "            dropout.train()\n",
    "\n",
    "def mc_dropout_predict(texts, T=20):\n",
    "    inputs = tokenizer(texts, padding=True, truncation=True, return_tensors=\"pt\").to(device)\n",
    "    logits = []\n",
    "    with torch.no_grad():\n",
    "        for _ in range(T):\n",
    "            logits.append(base_model(**inputs).logits.unsqueeze(0))\n",
    "    logits = torch.cat(logits, dim=0)\n",
    "    probs  = torch.softmax(logits, dim=-1)\n",
    "    return probs.mean(dim=0), probs.var(dim=0)"
   ]
  },
  {
   "cell_type": "code",
   "execution_count": 20,
   "id": "04cfe0c7-71de-4520-af97-e6729cd81b0f",
   "metadata": {
    "tags": []
   },
   "outputs": [
    {
     "name": "stdout",
     "output_type": "stream",
     "text": [
      "Expected Calibration Error (approx): 0.0000\n"
     ]
    }
   ],
   "source": [
    "# Corrected Error Rate vs Uncertainty Plot for BayesLoRA\n",
    "\n",
    "import numpy as np\n",
    "import matplotlib.pyplot as plt\n",
    "import torch\n",
    "\n",
    "# 1. Collect uncertainties and errors on the evaluation dataset\n",
    "uncertainties = []\n",
    "errors = []\n",
    "\n",
    "for batch in eval_loader:\n",
    "    # Run MC-dropout\n",
    "    mean_probs, var_probs = mc_dropout_predict(\n",
    "        tokenizer.batch_decode(batch[\"input_ids\"], skip_special_tokens=True),\n",
    "        T=20\n",
    "    )\n",
    "    preds = mean_probs.argmax(dim=-1).cpu().numpy()\n",
    "    # Extract the maximum variance per example (values[0] is var tensor)\n",
    "    vars_max = var_probs.max(dim=-1)[0].cpu().numpy()\n",
    "    refs = batch[\"labels\"].cpu().numpy()\n",
    "    for pred, ref, unc in zip(preds, refs, vars_max):\n",
    "        uncertainties.append(unc)\n",
    "        errors.append(int(pred != ref))\n",
    "\n",
    "uncertainties = np.array(uncertainties)\n",
    "errors = np.array(errors)\n",
    "N = len(uncertainties)\n",
    "\n",
    "# 4. Compute and print ECE\n",
    "ece = 0.0\n",
    "for unc_mean, err_rate in zip(bin_centers, err_rates):\n",
    "    # weight by proportion in that bin\n",
    "    prop = len(np.where((uncertainties >= unc_mean - 1e-12) & (uncertainties <= unc_mean + 1e-12))[0]) / N\n",
    "    ece += prop * abs(err_rate - unc_mean)\n",
    "print(f\"Expected Calibration Error (approx): {ece:.4f}\")"
   ]
  },
  {
   "cell_type": "code",
   "execution_count": 21,
   "id": "e3f70ba9-4695-48db-87e9-2aa4c514068d",
   "metadata": {
    "tags": []
   },
   "outputs": [
    {
     "data": {
      "image/png": "[encoded data removed]",
      "text/plain": [
       "<Figure size 640x480 with 1 Axes>"
      ]
     },
     "metadata": {},
     "output_type": "display_data"
    }
   ],
   "source": [
    "# uncertainties, errors are your arrays of length N\n",
    "B = 10\n",
    "# compute bin edges so each bin has ~N/B points\n",
    "edges = np.quantile(uncertainties, np.linspace(0, 1, B+1))\n",
    "bin_centers, err_rates = [], []\n",
    "\n",
    "for i in range(B):\n",
    "    idx = np.where((uncertainties >= edges[i]) & (uncertainties < edges[i+1]))[0]\n",
    "    if len(idx)==0: \n",
    "        continue\n",
    "    bin_centers.append(uncertainties[idx].mean())\n",
    "    err_rates.append(errors[idx].mean())\n",
    "\n",
    "# plot\n",
    "plt.plot(bin_centers, err_rates, marker='o')\n",
    "plt.xscale('log')\n",
    "plt.xlabel(\"Predicted Uncertainty\")\n",
    "plt.ylabel(\"Empirical Error Rate\")\n",
    "plt.title(\"Error Rate vs Uncertainty (Quantile Bins)\")\n",
    "plt.show()"
   ]
  },
  {
   "cell_type": "code",
   "execution_count": 22,
   "id": "e9b53fea-174f-4dc5-ae11-912d5f09684f",
   "metadata": {
    "tags": []
   },
   "outputs": [
    {
     "name": "stdout",
     "output_type": "stream",
     "text": [
      "Spearman's ρ = 0.376, p-value = 1.794e-46\n"
     ]
    }
   ],
   "source": [
    "from scipy.stats import spearmanr\n",
    "import numpy as np\n",
    "\n",
    "# uncertainties: 1D numpy array of variances per example\n",
    "# errors:        1D numpy array of 0/1 error flags per example\n",
    "\n",
    "# Take log (add tiny eps to avoid log(0))\n",
    "eps = 1e-12\n",
    "log_unc = np.log(uncertainties + eps)\n",
    "\n",
    "# Compute Spearman’s rank correlation\n",
    "rho, pval = spearmanr(log_unc, errors)\n",
    "\n",
    "print(f\"Spearman's ρ = {rho:.3f}, p-value = {pval:.3e}\")"
   ]
  }
 ],
 "metadata": {
  "kernelspec": {
   "display_name": "Python 3 (ipykernel)",
   "language": "python",
   "name": "python3"
  },
  "language_info": {
   "codemirror_mode": {
    "name": "ipython",
    "version": 3
   },
   "file_extension": ".py",
   "mimetype": "text/x-python",
   "name": "python",
   "nbconvert_exporter": "python",
   "pygments_lexer": "ipython3",
   "version": "3.9.18"
  }
 },
 "nbformat": 4,
 "nbformat_minor": 5
}
